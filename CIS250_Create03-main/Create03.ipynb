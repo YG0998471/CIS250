{
    "cells": [
        {
            "attachments": {},
            "cell_type": "markdown",
            "metadata": {
                "azdata_cell_guid": "de8f1dca-9954-446d-8f2d-4f06e0d72827"
            },
            "source": [
                "# Relationships Between Tables\n",
                "\n",
                "## **Getting Started**\n",
                "\n",
                "This week we will be learning how to how to pull data from multiple tables.\n",
                "\n",
                "**Before beginning:** It is recommended that you open/download the _guitar store ERD_ that is available in Github so you can review it during the assignment."
            ]
        },
        {
            "attachments": {},
            "cell_type": "markdown",
            "metadata": {
                "azdata_cell_guid": "dbb7343c-a44c-4df2-bcb7-a87c72b4c28e"
            },
            "source": [
                "## **Joins**\n",
                "\n",
                "Joins are how we relate tables during query execution to obtain a specific result. Joins are different from relationships in the sense that relationships exist for the purpose of maintaining data integrity between tables. The relationship that exist in the _guitar store_ database between _Categories_ and _Products_ is in place to ensure that there are no products that don't have a corresponding record in the _Categories_ table. To return related data between these tables we can use the JOIN statement in our SQL."
            ]
        },
        {
            "attachments": {},
            "cell_type": "markdown",
            "metadata": {
                "azdata_cell_guid": "7d964553-c7cd-4841-a8c3-75b42be87144"
            },
            "source": [
                "During this exercise, we will be using the _Products_ and _Categories_ tables. Run the below code cells (2) to see the structure and data in each table."
            ]
        },
        {
            "cell_type": "code",
            "execution_count": null,
            "metadata": {
                "azdata_cell_guid": "b207d7e2-2ec8-46c4-a0a3-4653cdbce79e",
                "language": "sql",
                "tags": [],
                "vscode": {
                    "languageId": "sql"
                }
            },
            "outputs": [],
            "source": [
                "--Select all records form gs_products\n",
                "SELECT *\n",
                "FROM gs_products"
            ]
        },
        {
            "cell_type": "code",
            "execution_count": null,
            "metadata": {
                "azdata_cell_guid": "f6030f7a-63d7-4dbe-a088-8d079174e189",
                "language": "sql",
                "tags": [],
                "vscode": {
                    "languageId": "sql"
                }
            },
            "outputs": [],
            "source": [
                "--Select all records form gs_categories\n",
                "SELECT *\n",
                "FROM gs_categories"
            ]
        },
        {
            "attachments": {},
            "cell_type": "markdown",
            "metadata": {
                "azdata_cell_guid": "d0f79bf4-8a8d-490c-b06d-c78a4962b994",
                "language": "sql"
            },
            "source": [
                "We can tell from the results of our queries and the _guitar shop_ ERD that instead of storing the category name inside of the product table, we store a category ID and use a relationship/join to look for that category ID in the categories table. There are two main reasons we do this:\n",
                "\n",
                "- It takes more space to store the word \"Basses\" than the integer 2. Please see the storage sizes below. This is a massive difference. Instead of storing the word \"Basses\" everytime that we need it, we can store it one time in the category table and use the ID it was assigned to pull it into our result.\n",
                "    - 2 in binary: 10\n",
                "    - \"Basses\" in binary: 01100010 01100001 01110011 01110011 01100101 01110011\n",
                "    - So, it takes 24 times as much storage to store the word \"Basses\" than it does to store the number 2.\n",
                "- The other reason is that it helps us preserve data integrity. Due to referencial integrity, anything we put in Products.CategoryID must have a matching value in Categories.CategoryID. This prevents erraneous values from sneaking in like \"Bassses\", \"Bases\", etc..."
            ]
        },
        {
            "attachments": {},
            "cell_type": "markdown",
            "metadata": {
                "azdata_cell_guid": "81b23cd6-1ae2-45ab-8805-b869f70c5063",
                "language": "sql"
            },
            "source": [
                "### **Inner Join**\n",
                "\n",
                "Using the JOIN statement in SQL to pull data from multiple tables results in an _inner join._ An inner join will only return records/rows of the selected fields from tables where the joined fields are equal. For example, _Categories_ and _Products_ can be joined on _CategoryID_ since that field is a FK in the _Products_ table. In the below code cell we are selecting all records from both tables where the join fields are equal."
            ]
        },
        {
            "cell_type": "code",
            "execution_count": null,
            "metadata": {
                "azdata_cell_guid": "1d27e5e8-89fd-4d1e-b81f-a67085115aad",
                "language": "sql",
                "vscode": {
                    "languageId": "sql"
                }
            },
            "outputs": [],
            "source": [
                "--Return all records from products where there is a match in categories\n",
                "SELECT p.*, c.*\n",
                "FROM gs_products as p \n",
                "JOIN gs_categories as c ON p.category_id = c.category_id"
            ]
        },
        {
            "attachments": {},
            "cell_type": "markdown",
            "metadata": {
                "azdata_cell_guid": "cfa7a92a-80c2-40ef-92de-c1d09334b31b",
                "language": "sql"
            },
            "source": [
                "When running the above code cell we can see that the result returns all fields from both tables in the order that we entered them into the select statatement. The below code cell contains a query that will just pull in a few fields from each table to evaluate our join."
            ]
        },
        {
            "cell_type": "code",
            "execution_count": null,
            "metadata": {
                "azdata_cell_guid": "e79c0b9f-3b1a-4917-a67b-935d83daf337",
                "language": "sql",
                "tags": [],
                "vscode": {
                    "languageId": "sql"
                }
            },
            "outputs": [],
            "source": [
                "--Return specific columns from products where there is a match in categories\n",
                "SELECT p.product_id, p.product_code, p.category_id AS products_category_id, c.category_id AS categories_category_id, c.category_name\n",
                "FROM gs_products AS p\n",
                "JOIN gs_categories AS c ON p.category_id = c.category_id"
            ]
        },
        {
            "attachments": {},
            "cell_type": "markdown",
            "metadata": {
                "azdata_cell_guid": "5054626d-dbe3-46d9-b4b5-145d9b9860d1",
                "language": "sql"
            },
            "source": [
                "The above result shows us that we are brining in data from the categories table where Categories.CategoryID matches Products.CategoryID. We know from our earlier example that Category ID 2 is \"Basses\", so \"Basses\" is returned as the CategoryName for any products with a 2 in the categoryID. We can also use a WHERE clause to limit the return of data in the products table when joining on the categories table."
            ]
        },
        {
            "cell_type": "code",
            "execution_count": null,
            "metadata": {
                "azdata_cell_guid": "4a670a8b-e997-4685-b5b8-3b67df3f0fb0",
                "language": "sql",
                "vscode": {
                    "languageId": "sql"
                }
            },
            "outputs": [],
            "source": [
                "--Return all records from products where the product is a Base\n",
                "SELECT *\n",
                "FROM gs_products AS p\n",
                "JOIN gs_categories AS c ON p.category_id = c.category_id\n",
                "WHERE c.category_name = 'Basses'"
            ]
        },
        {
            "attachments": {},
            "cell_type": "markdown",
            "metadata": {
                "azdata_cell_guid": "4232c4f2-a895-492c-852e-6ed470ae36e5",
                "language": "sql"
            },
            "source": [
                "The above code cell returns all products where the category name is \"Basses\".  Even though we aren't brining in any of the data from the categories table into our select statement, we can still refernce it in our from clause through a join and filter it with criteria in our where clause."
            ]
        },
        {
            "attachments": {},
            "cell_type": "markdown",
            "metadata": {
                "azdata_cell_guid": "fa22bead-81ec-458c-9392-8463fd5fa0fb",
                "language": "sql"
            },
            "source": [
                "✏️ **Practice**\n",
                "\n",
                "Edit the below code cell so that the query ruturns all data from the products table that are in the _guitar_ category by using a join."
            ]
        },
        {
            "cell_type": "code",
            "execution_count": null,
            "metadata": {
                "azdata_cell_guid": "4f7e6b71-bd8f-4dc9-828a-67c24dd3dfb9",
                "language": "sql",
                "tags": [],
                "vscode": {
                    "languageId": "sql"
                }
            },
            "outputs": [],
            "source": [
                "SELECT *\n",
                "FROM gs_products AS p"
            ]
        },
        {
            "attachments": {},
            "cell_type": "markdown",
            "metadata": {
                "azdata_cell_guid": "f4f41f02-8445-411e-9eb1-3839645a80b5",
                "language": "sql"
            },
            "source": [
                "**Expected Result**\n",
                "\n"
            ]
        },
        {
            "attachments": {},
            "cell_type": "markdown",
            "metadata": {
                "azdata_cell_guid": "4ba82893-31cd-4ad0-8e9d-e2b823c0b56b",
                "language": "sql"
            },
            "source": [
                "### **Left/Right Joins**\n",
                "\n",
                "While inner joins return all records from both tables where there is a match in the joining fields, a left or right join will return all records from the specified table, and only matching records from the joined table. Using the next few code cells, we will build a query that shows all customers who have never placed an order using a left join. Before we do so, run the code cells (2) below to view the data and structure of the customers and orders tables."
            ]
        },
        {
            "cell_type": "code",
            "execution_count": null,
            "metadata": {
                "azdata_cell_guid": "7c31b2b6-cb82-439a-b65f-02e9f016e888",
                "language": "sql",
                "vscode": {
                    "languageId": "sql"
                }
            },
            "outputs": [],
            "source": [
                "--Return all records from customers\n",
                "SELECT *\n",
                "FROM gs_customers"
            ]
        },
        {
            "cell_type": "code",
            "execution_count": null,
            "metadata": {
                "azdata_cell_guid": "faa74784-afde-41bf-a015-3d65fe6a3bbc",
                "language": "sql",
                "vscode": {
                    "languageId": "sql"
                }
            },
            "outputs": [],
            "source": [
                "--Return all records from orders\n",
                "SELECT *\n",
                "FROM gs_orders"
            ]
        },
        {
            "attachments": {},
            "cell_type": "markdown",
            "metadata": {
                "azdata_cell_guid": "8390c21b-ce9a-4fb4-b09a-9819267a10c6",
                "language": "sql"
            },
            "source": [
                "We can see from the above queries that there are 486 customers and 41 orders. Let's start working on our \"Customers without orders\" query by creating a query that joins the two tables in customerID to see which customers have placed an order."
            ]
        },
        {
            "cell_type": "code",
            "execution_count": null,
            "metadata": {
                "azdata_cell_guid": "ce6a6d0a-e9d6-4d92-a6d3-a9f4f517373f",
                "language": "sql",
                "vscode": {
                    "languageId": "sql"
                }
            },
            "outputs": [],
            "source": [
                "--Return all customers who appear in the orders table\n",
                "SELECT c.*, o.*\n",
                "FROM gs_customers as c\n",
                "JOIN gs_orders as o ON c.customer_id = o.customer_id"
            ]
        },
        {
            "attachments": {},
            "cell_type": "markdown",
            "metadata": {
                "azdata_cell_guid": "2037f657-d0af-49e0-8308-3c4fa5e3f8ee",
                "language": "sql"
            },
            "source": [
                "The above code cell only returns 41 records, which makes sense since that is how many orders were placed, but we definitely aren't seeing all of our customers since our first set of queries showed 485 different customers. We can use a left join to pull those customers back in. The way that this works is that we are telling the query to return all records from the \"left\" side of the join statement, so we will leave customers on the left side for now."
            ]
        },
        {
            "cell_type": "code",
            "execution_count": null,
            "metadata": {
                "azdata_cell_guid": "78a4ca46-ae07-4684-a741-320ec246b519",
                "language": "sql",
                "vscode": {
                    "languageId": "sql"
                }
            },
            "outputs": [],
            "source": [
                "--Use left join to show all customers as well as order information for customers that have ordered\n",
                "SELECT c.*, o.*\n",
                "FROM gs_customers as c\n",
                "LEFT JOIN gs_orders as o ON c.customer_id = o.customer_id"
            ]
        },
        {
            "attachments": {},
            "cell_type": "markdown",
            "metadata": {
                "azdata_cell_guid": "0eb65da2-dfef-4ee9-bec8-4f8fde948728",
                "language": "sql"
            },
            "source": [
                "We can see that the query is now showing information for all customers regardless of if they placed an order or not, and there are a few duplicates for customers who placed multiple orders. Please scroll down to customer 37, and then scroll over to view the order data. Notice that all of their order data is Null because they never placed an order. Since there were no orders placed for these customers, there is nothing for the orders table to return here.\n",
                "\n",
                "What would happen if we made this a right join instead?"
            ]
        },
        {
            "cell_type": "code",
            "execution_count": null,
            "metadata": {
                "azdata_cell_guid": "c8fb4bf8-ccca-4808-b3f8-16b758714a81",
                "language": "sql",
                "vscode": {
                    "languageId": "sql"
                }
            },
            "outputs": [],
            "source": [
                "--Use a right join to show all orders as well as customer information if there is a match\n",
                "SELECT c.*, o.*\n",
                "FROM gs_customers as c\n",
                "RIGHT JOIN gs_orders as o ON c.customer_id = o.customer_id"
            ]
        },
        {
            "attachments": {},
            "cell_type": "markdown",
            "metadata": {
                "azdata_cell_guid": "91e62e7d-680e-4aa2-a83a-0b10600ec201",
                "language": "sql"
            },
            "source": [
                "We are back to seeing 41 records and we don't see as many Null values. This is because we are now showing all records on the right side of the join statement (orders) and only those on the left side that have a related record."
            ]
        },
        {
            "attachments": {},
            "cell_type": "markdown",
            "metadata": {
                "azdata_cell_guid": "58b7d883-1076-4fe3-9f4d-439aabb84c18",
                "language": "sql"
            },
            "source": [
                "Putting together everything that we have learned, we now know enough to create a query that shows which customers haven't placed an order.\n",
                "\n",
                "- Show all customers- Left join between customers and orders\n",
                "- Only show customers who don't have an order- set criteria to Null for order data\n",
                "\n",
                "Let's incoroporate this into our next query."
            ]
        },
        {
            "cell_type": "code",
            "execution_count": null,
            "metadata": {
                "azdata_cell_guid": "a9949979-8e45-44a9-b7ce-227052aca7e0",
                "language": "sql",
                "vscode": {
                    "languageId": "sql"
                }
            },
            "outputs": [],
            "source": [
                "--Use left join to show only customers who have never placed an order\n",
                "SELECT c.*, o.*\n",
                "FROM gs_customers as c\n",
                "LEFT JOIN gs_orders as o ON c.customer_id = o.customer_id\n",
                "WHERE o.customer_id is NULL"
            ]
        },
        {
            "attachments": {},
            "cell_type": "markdown",
            "metadata": {
                "azdata_cell_guid": "773def1d-db7b-4ee9-9b72-b88defe3cd2e",
                "language": "sql"
            },
            "source": [
                "By adding a where clause to only show Nulls from Orders.CustomerID we were able to filter out any customers that had related data in the orders table, or in other words, had placed an order. Now we know that there are 450 customers in our database that have yet to place an order."
            ]
        },
        {
            "attachments": {},
            "cell_type": "markdown",
            "metadata": {
                "azdata_cell_guid": "210b7850-6716-4d78-940e-85c1349841f0",
                "language": "sql"
            },
            "source": [
                "✏️ **Practice**\n",
                "\n",
                "Edit the below query to show all customers who do not have an address in the addresses table."
            ]
        },
        {
            "cell_type": "code",
            "execution_count": null,
            "metadata": {
                "azdata_cell_guid": "fef1aba7-8dab-4e05-9ed5-550aa86ef36a",
                "language": "sql",
                "vscode": {
                    "languageId": "sql"
                }
            },
            "outputs": [],
            "source": [
                "SELECT c.*\n",
                "FROM gs_customers AS c"
            ]
        },
        {
            "attachments": {},
            "cell_type": "markdown",
            "metadata": {
                "azdata_cell_guid": "e6ce3dfd-3158-4e45-9847-b7d3a4eb39bc",
                "language": "sql"
            },
            "source": [
                "## **Junction/Join Tables**\n",
                "\n",
                "Junciton, or join, tables are a special type of table that helps us resolve a many-to-many relationship. In the _guitar store_ example we have a many-to-many relationship between products and orders. This is because an individual product can be part of many orders, and an order can be made of many products. For example, Order #31 may contain products 1 and 6. At first this looks like a one-to-many relationship, however, Order # 41 contains products 6 and 8. We have multiple products appearing in different orders, which makes this a many-to-many relationship. To resolve this, we use a junction table. This junctino table, _OrderItems_, lists the OrderID and each associated ProductID in their own row so that we can query them. If we run the below code cells (2) we can see that there are no fields that we can use to join Prducts and Orders. They have no common data."
            ]
        },
        {
            "cell_type": "code",
            "execution_count": null,
            "metadata": {
                "azdata_cell_guid": "98664f63-37c0-45f4-9391-8acb8f45569b",
                "language": "sql",
                "tags": [],
                "vscode": {
                    "languageId": "sql"
                }
            },
            "outputs": [],
            "source": [
                "SELECT *\n",
                "FROM gs_products AS p"
            ]
        },
        {
            "cell_type": "code",
            "execution_count": null,
            "metadata": {
                "azdata_cell_guid": "43cc8814-0b43-4c43-9dfd-eb5da36b6072",
                "language": "sql",
                "tags": [],
                "vscode": {
                    "languageId": "sql"
                }
            },
            "outputs": [],
            "source": [
                "SELECT *\n",
                "FROM gs_orders as o"
            ]
        },
        {
            "attachments": {},
            "cell_type": "markdown",
            "metadata": {
                "azdata_cell_guid": "4071386c-1875-4aeb-b3ca-22444cc22513",
                "language": "sql"
            },
            "source": [
                "Now, if we look at the _OrderItems_ table then we can see that it contains information from both tables. This is showing which items (item\\_id) were part of which orders (order\\_id)"
            ]
        },
        {
            "cell_type": "code",
            "execution_count": null,
            "metadata": {
                "azdata_cell_guid": "e3a9ae3f-e346-4105-8857-7013216f63b3",
                "language": "sql",
                "vscode": {
                    "languageId": "sql"
                }
            },
            "outputs": [],
            "source": [
                "SELECT *\n",
                "FROM gs_order_items AS oi"
            ]
        },
        {
            "attachments": {},
            "cell_type": "markdown",
            "metadata": {
                "azdata_cell_guid": "b0925851-84af-4fa1-a4a8-d9bb3c2f9ad3",
                "language": "sql"
            },
            "source": [
                "This table also includes useful information such as what the discount on the product was at the time of the order, the price that was paid, and the quantity purchased. We can think of this as a transaction table that is storing transaction level data for each product in each order. It is the most granular stage of our data.\n",
                "\n",
                "If we want to connect products to orders, then we will need to join each of our products and orders tables to the OrderItems table. This can be done by using multiple join statements like in the cell below. At the end of one join statement, we just start the next one. The below code cell is showing the productID and orderID for each product/order pairing. If you scroll up, you will notice that these are the same combinations as what is in the ItemOrders table, but we are pulling from the Products and Orders table now instead!"
            ]
        },
        {
            "cell_type": "code",
            "execution_count": null,
            "metadata": {
                "azdata_cell_guid": "0c2d767e-297a-46ca-8070-3755f5748873",
                "language": "sql",
                "vscode": {
                    "languageId": "sql"
                }
            },
            "outputs": [],
            "source": [
                "SELECT p,product_id, o.order_id\n",
                "FROM gs_products as p\n",
                "JOIN gs_order_items as oi ON p.product_id = oi.product_id\n",
                "JOIN gs_orders as o ON oi.order_id = o.order_id"
            ]
        },
        {
            "attachments": {},
            "cell_type": "markdown",
            "metadata": {
                "azdata_cell_guid": "852df7fc-5592-455f-b243-e23f39fd778f",
                "language": "sql"
            },
            "source": [
                "**✏️ Practice**\n",
                "\n",
                "Edit the below code cell so that you are returning the name of each product, as well as the customerID of the customer who placed the order, and the OrderDate."
            ]
        },
        {
            "cell_type": "code",
            "execution_count": null,
            "metadata": {
                "azdata_cell_guid": "fd5d4291-8b42-4361-b596-6b8a5160dc4c",
                "language": "sql",
                "tags": [],
                "vscode": {
                    "languageId": "sql"
                }
            },
            "outputs": [],
            "source": [
                "SELECT p.product_id\n",
                "FROM gs_products as p\n",
                "JOIN gs_order_items as oi ON p.product_id = oi.product_id"
            ]
        },
        {
            "attachments": {},
            "cell_type": "markdown",
            "metadata": {
                "azdata_cell_guid": "d7e373a8-142b-43b0-96fb-b0323ddb4a77",
                "language": "sql"
            },
            "source": [
                "## **Exercises**\n",
                "\n",
                "If you have not already, I would strongly recommend having access to the ERD Linked in Canvas for the Exercises."
            ]
        },
        {
            "attachments": {},
            "cell_type": "markdown",
            "metadata": {
                "azdata_cell_guid": "24d078bb-beb3-4123-9fd2-6aadf59dae7f",
                "language": "sql"
            },
            "source": [
                "1\\. Using the below code cell, return the order date, ship amount, and ship date for every order, as well as the name of the customer that placed the order."
            ]
        },
        {
            "attachments": {},
            "cell_type": "markdown",
            "metadata": {
                "azdata_cell_guid": "af7b0dee-9c25-4c0b-90f0-4240f1ce18a3",
                "language": "sql"
            },
            "source": [
                "**First 5 rows of correct solution**\n",
                "|order_date|ship_amount|ship_date|first_name|last_name|\n",
                "|---|---|---|---|---|\n",
                "|2016-03-28 09:40:28.000|5.00|2016-03-31 09:41:11.000|Allan|Sherwood|\n",
                "|2016-03-28 11:23:20.000|5.00|2016-03-31 11:24:03.000|Barry|Zimmer|\n",
                "|2016-03-29 09:44:58.000|10.00|2016-04-01 09:45:41.000|Allan|Sherwood|\n",
                "|2016-03-30 15:22:31.000|10.00|2016-04-02 15:23:14.000|Christine|Brown|\n",
                "|2016-03-31 05:43:11.000|5.00|2016-04-03 05:43:54.000|David|Goldstein|"
            ]
        },
        {
            "cell_type": "code",
            "execution_count": 3,
            "metadata": {
                "azdata_cell_guid": "64659785-fedb-4b09-b4b4-52f68dcfca0d",
                "language": "sql",
                "vscode": {
                    "languageId": "sql"
                }
            },
            "outputs": [
                {
                    "ename": "IndentationError",
                    "evalue": "unexpected indent (1272646875.py, line 2)",
                    "output_type": "error",
                    "traceback": [
                        "  \u001b[36mCell\u001b[39m\u001b[36m \u001b[39m\u001b[32mIn[3]\u001b[39m\u001b[32m, line 2\u001b[39m\n\u001b[31m    \u001b[39m\u001b[31mgs_orders.order_date,\u001b[39m\n    ^\n\u001b[31mIndentationError\u001b[39m\u001b[31m:\u001b[39m unexpected indent\n"
                    ]
                }
            ],
            "source": [
                "--Insert your code below this line. You can make your own comments by using two hyphens\n",
                "SELECT \n",
                "    gs_orders.order_date,\n",
                "    gs_orders.ship_amount,\n",
                "    gs_orders.ship_date,\n",
                "    gs_customers.first_name,\n",
                "    gs_customers.last_name\n",
                "FROM gs_orders\n",
                "INNER JOIN gs_customers\n",
                "    ON gs_orders.customer_id = gs_customers.customer_id\n",
                "ORDER BY gs_orders.order_date;\n",
                "\n",
                "\n",
                "\n"
            ]
        },
        {
            "attachments": {},
            "cell_type": "markdown",
            "metadata": {
                "azdata_cell_guid": "530e4b0a-3a53-4072-8c43-ce52893be083",
                "language": "sql"
            },
            "source": [
                "2\\. Using the below code cell, return the first name, last name, and email address for each customer who has placed and order and has a yahoo email address."
            ]
        },
        {
            "attachments": {},
            "cell_type": "markdown",
            "metadata": {
                "azdata_cell_guid": "ecc35976-5933-4bd3-860a-86170de9a29f",
                "language": "sql"
            },
            "source": [
                "**First 5 rows of correct solution**\n",
                "|first_name|last_name|email_address|\n",
                "|---|---|---|\n",
                "|Allan|Sherwood|allan.sherwood@yahoo.com|\n",
                "|Allan|Sherwood|allan.sherwood@yahoo.com|\n",
                "|Gary|Hernandez|gary_hernandez@yahoo.com|\n",
                "|Mitsue|Tollner|mitsue_tollner@yahoo.com|\n",
                "|Minna|Amigon|minna_amigon@yahoo.com|"
            ]
        },
        {
            "cell_type": "code",
            "execution_count": 4,
            "metadata": {
                "azdata_cell_guid": "9669f4a0-ff02-4021-8120-233b1af0c852",
                "language": "sql",
                "tags": [],
                "vscode": {
                    "languageId": "sql"
                }
            },
            "outputs": [
                {
                    "ename": "SyntaxError",
                    "evalue": "invalid syntax (428737021.py, line 1)",
                    "output_type": "error",
                    "traceback": [
                        "  \u001b[36mCell\u001b[39m\u001b[36m \u001b[39m\u001b[32mIn[4]\u001b[39m\u001b[32m, line 1\u001b[39m\n\u001b[31m    \u001b[39m\u001b[31m--Insert your code below this line. You can make your own comments by using two hyphens\u001b[39m\n             ^\n\u001b[31mSyntaxError\u001b[39m\u001b[31m:\u001b[39m invalid syntax\n"
                    ]
                }
            ],
            "source": [
                "--Insert your code below this line. You can make your own comments by using two hyphens\n",
                "SELECT \n",
                "    c.first_name,\n",
                "    c.last_name,\n",
                "    c.email_address AS email_address\n",
                "FROM gs_customers AS c\n",
                "INNER JOIN gs_orders AS o\n",
                "    ON c.customer_id = o.customer_id\n",
                "WHERE c.email_address LIKE '%@yahoo.com'\n",
                "ORDER BY c.first_name, c.last_name\n"
            ]
        },
        {
            "attachments": {},
            "cell_type": "markdown",
            "metadata": {
                "azdata_cell_guid": "dc267393-1872-4cf4-8604-b43d72c5954f",
                "language": "sql"
            },
            "source": [
                "3\\. Using the below code cell, return the order\\_id and order date for items ordered by Kris Marrier"
            ]
        },
        {
            "attachments": {},
            "cell_type": "markdown",
            "metadata": {
                "azdata_cell_guid": "953521f1-8b26-4ffa-b771-5ecef257f5cc",
                "language": "sql"
            },
            "source": [
                "**First 5 rows of correct solution**\n",
                "\n",
                "| order\\_id | order\\_date |\n",
                "| --- | --- |\n",
                "| 20 | 2016-04-10 09:33:23.000 |\n",
                "| 32 | 2016-05-01 01:23:23.000 |"
            ]
        },
        {
            "cell_type": "code",
            "execution_count": null,
            "metadata": {
                "vscode": {
                    "languageId": "sql"
                }
            },
            "outputs": [],
            "source": [
                "SELECT \n",
                "    c.first_name,\n",
                "    c.last_name,\n",
                "    o.order_date\n",
                "FROM gs_customers AS c\n",
                "INNER JOIN gs_orders AS o\n",
                "    ON c.customer_id = o.customer_id\n",
                "WHERE c.first_name = 'Kris'\n",
                "  AND c.last_name = 'Marrier';\n"
            ]
        },
        {
            "attachments": {},
            "cell_type": "markdown",
            "metadata": {
                "azdata_cell_guid": "3854a92b-202f-4506-aa6e-4452841de4c4",
                "language": "sql"
            },
            "source": [
                "4\\. Expand the query from exercise 3 to also include the product name, price, and quantity. You will have to join a total of four tables."
            ]
        },
        {
            "attachments": {},
            "cell_type": "markdown",
            "metadata": {
                "azdata_cell_guid": "e158e054-6901-478e-8909-f2caf7b9324f",
                "language": "sql"
            },
            "source": [
                "**First 5 rows of correct solution**\n",
                "|order_id|order_date|product_name|item_price|quantity|\n",
                "|---|---|---|---|---|\n",
                "|20|2016-04-10 09:33:23.000|Yamaha FG700S|799.99|1|\n",
                "|32|2016-05-01 01:23:23.000|Fender Stratocaster|2517.00|1|\n"
            ]
        },
        {
            "cell_type": "code",
            "execution_count": null,
            "metadata": {
                "azdata_cell_guid": "962e0f14-46af-46a1-979d-ca8e595f8fe2",
                "language": "sql",
                "vscode": {
                    "languageId": "sql"
                }
            },
            "outputs": [],
            "source": [
                "--Insert your code below this line. You can make your own comments by using two hyphens\n",
                "SELECT \n",
                "    o.order_id,\n",
                "    o.order_date,\n",
                "    p.product_name,\n",
                "    oi.item_price,\n",
                "    oi.quantity\n",
                "FROM gs_customers AS c\n",
                "INNER JOIN gs_orders AS o\n",
                "    ON c.customer_id = o.customer_id\n",
                "INNER JOIN gs_order_items AS oi\n",
                "    ON o.order_id = oi.order_id\n",
                "INNER JOIN gs_products AS p\n",
                "    ON oi.product_id = p.product_id\n",
                "WHERE c.first_name = 'Kris'\n",
                "  AND c.last_name = 'Marrier'\n",
                "ORDER BY o.order_date;\n"
            ]
        },
        {
            "attachments": {},
            "cell_type": "markdown",
            "metadata": {
                "azdata_cell_guid": "bff7c513-20ee-4831-b822-ad9d9d14edd0",
                "language": "sql"
            },
            "source": [
                "## **Scenario**\n",
                "\n",
                "The owner of Guitar Store wants you to create a query that shows all of the needed information for creating a batch of invoices. Your query should contain the Cateegory Name, Products Name, Description, List Price, Item Price, Discount Amount, Quantity, OrderDate, Shipping and tax costs, Customer name, Customer Shipping address, and their email.\n",
                "\n",
                "Create your query in the code cell below:"
            ]
        },
        {
            "attachments": {},
            "cell_type": "markdown",
            "metadata": {
                "azdata_cell_guid": "f6736a62-a80a-4fb6-ab70-3464f90d834f",
                "language": ""
            },
            "source": [
                "**First 5 rows of correct solution**\n",
                "|category_name|product_name|product_description|list_price|item_price|discount_amount|quantity|order_date|ship_amount|tax_amount|first_name|last_name|Line1|line2|city|state_code|zip_code|email_address|\n",
                "|---|---|---|---|---|---|---|---|---|---|---|---|---|---|---|---|---|---|\n",
                "|Guitars|Gibson Les Paul|This Les Paul guitar offers a carved top and humbucking pickups. It has a simple yet elegant design. Cutting-yet-rich tone?the hallmark of the Les Paul?pours out of the 490R and 498T Alnico II magnet humbucker pickups, which are mounted on a carved maple top with a mahogany back. The faded finish models are equipped with BurstBucker Pro pickups and a mahogany top. This guitar includes a Gibson hardshell case (Faded and satin finish models come with a gig bag) and a limited lifetime warranty.\\r\\n\\r\\nFeatures:\\r\\n\\r\\n* Carved maple top and mahogany back (Mahogany top on faded finish models)\\r\\n* Mahogany neck, &#39;59 Rounded Les Paul\\r\\n* Rosewood fingerboard (Ebony on Alpine white)\\r\\n* Tune-O-Matic bridge with stopbar\\r\\n* Chrome or gold hardware\\r\\n* 490R and 498T Alnico 2 magnet humbucker pickups (BurstBucker Pro on faded finish models)\\r\\n* 2 volume and 2 tone knobs, 3-way switch|1199.00|1199.00|359.70|1|2016-03-28 09:40:28.000|5.00|58.75|Allan|Sherwood|100 East Ridgewood Ave.||Paramus|NJ|07652|allan.sherwood@yahoo.com|\n",
                "|Basses|Hofner Icon|With authentic details inspired by the original, the Hofner Icon makes the legendary violin bass available to the rest of us. Don&#39;t get the idea that this a just a &quot;nowhere man&quot; look-alike. This quality instrument features a real spruce top and beautiful flamed maple back and sides. The semi-hollow body and set neck will give you the warm, round tone you expect from the violin bass.\\r\\n\\r\\nFeatures:\\r\\n\\r\\n* Authentic details inspired by the original\\r\\n* Spruce top\\r\\n* Flamed maple back and sides\\r\\n* Set neck\\r\\n* Rosewood fretboard\\r\\n* 30&quot; scale\\r\\n* 22 frets\\r\\n* Dot inlay|499.99|489.99|186.20|1|2016-03-28 11:23:20.000|5.00|21.27|Barry|Zimmer|16285 Wendell St.||Omaha|NE|68135|barryz@gmail.com|\n",
                "|Guitars|Fender Stratocaster|The Fender Stratocaster is the electric guitar design that changed the world. New features include a tinted neck, parchment pickguard and control knobs, and a &#39;70s-style logo. Includes select alder body, 21-fret maple neck with your choice of a rosewood or maple fretboard, 3 single-coil pickups, vintage-style tremolo, and die-cast tuning keys. This guitar features a thicker bridge block for increased sustain and a more stable point of contact with the strings. At this low price, why play anything but the real thing?\\r\\n\\r\\nFeatures:\\r\\n\\r\\n* New features:\\r\\n* Thicker bridge block\\r\\n* 3-ply parchment pick guard\\r\\n* Tinted neck|699.00|2517.00|1308.84|1|2016-03-29 09:44:58.000|10.00|102.29|Allan|Sherwood|100 East Ridgewood Ave.||Paramus|NJ|07652|allan.sherwood@yahoo.com|\n",
                "|Drums|Ludwig 5-piece Drum Set with Cymbals|This product includes a Ludwig 5-piece drum set and a Zildjian starter cymbal pack.\\r\\n\\r\\nWith the Ludwig drum set, you get famous Ludwig quality. This set features a bass drum, two toms, a floor tom, and a snare?each with a wrapped finish. Drum hardware includes LA214FP bass pedal, snare stand, cymbal stand, hi-hat stand, and a throne.\\r\\n\\r\\nWith the Zildjian cymbal pack, you get a 14&quot; crash, 18&quot; crash/ride, and a pair of 13&quot; hi-hats. Sound grooves and round hammer strikes in a simple circular pattern on the top surface of these cymbals magnify the basic sound of the distinctive alloy.\\r\\n\\r\\nFeatures:\\r\\n\\r\\n* Famous Ludwig quality\\r\\n* Wrapped finishes\\r\\n* 22&quot; x 16&quot; kick drum\\r\\n* 12&quot; x 10&quot; and 13&quot; x 11&quot; toms\\r\\n* 16&quot; x 16&quot; floor tom\\r\\n* 14&quot; x 6-1/2&quot; snare drum kick pedal\\r\\n* Snare stand\\r\\n* Straight cymbal stand hi-hat stand\\r\\n* FREE throne|699.99|415.00|161.85|1|2016-03-29 09:44:58.000|10.00|102.29|Allan|Sherwood|100 East Ridgewood Ave.||Paramus|NJ|07652|allan.sherwood@yahoo.com|\n",
                "|Guitars|Gibson Les Paul|This Les Paul guitar offers a carved top and humbucking pickups. It has a simple yet elegant design. Cutting-yet-rich tone?the hallmark of the Les Paul?pours out of the 490R and 498T Alnico II magnet humbucker pickups, which are mounted on a carved maple top with a mahogany back. The faded finish models are equipped with BurstBucker Pro pickups and a mahogany top. This guitar includes a Gibson hardshell case (Faded and satin finish models come with a gig bag) and a limited lifetime warranty.\\r\\n\\r\\nFeatures:\\r\\n\\r\\n* Carved maple top and mahogany back (Mahogany top on faded finish models)\\r\\n* Mahogany neck, &#39;59 Rounded Les Paul\\r\\n* Rosewood fingerboard (Ebony on Alpine white)\\r\\n* Tune-O-Matic bridge with stopbar\\r\\n* Chrome or gold hardware\\r\\n* 490R and 498T Alnico 2 magnet humbucker pickups (BurstBucker Pro on faded finish models)\\r\\n* 2 volume and 2 tone knobs, 3-way switch|1199.00|1199.00|359.70|2|2016-03-30 15:22:31.000|10.00|117.50|Christine|Brown|19270 NW Cornell Rd.||Beaverton|OR|97006|christineb@solarone.com|\n"
            ]
        },
        {
            "cell_type": "code",
            "execution_count": null,
            "metadata": {
                "azdata_cell_guid": "68de0a1f-f02e-47a7-bbdb-2a15cae9f1fb",
                "language": "sql",
                "vscode": {
                    "languageId": "sql"
                }
            },
            "outputs": [],
            "source": [
                "--Insert your code below this line. You can make your own comments by using two hyphens\n",
                "SELECT \n",
                "    cat.category_name,\n",
                "    p.product_name,\n",
                "    p.product_description AS product_description,\n",
                "    p.list_price,\n",
                "    oi.item_price,\n",
                "    oi.discount_amount,\n",
                "    oi.quantity,\n",
                "    o.order_date,\n",
                "    o.ship_amount,\n",
                "    o.tax_amount,\n",
                "    c.first_name,\n",
                "    c.last_name,\n",
                "    a.line1,\n",
                "    a.line2,\n",
                "    a.city,\n",
                "    a.state_code,\n",
                "    a.zip_code,\n",
                "    c.email_address AS email_address\n",
                "FROM gs_orders AS o\n",
                "INNER JOIN gs_customers AS c\n",
                "    ON o.customer_id = c.customer_id\n",
                "INNER JOIN gs_order_items AS oi\n",
                "    ON o.order_id = oi.order_id\n",
                "INNER JOIN gs_products AS p\n",
                "    ON oi.product_id = p.product_id\n",
                "INNER JOIN gs_categories AS cat\n",
                "    ON p.category_id = cat.category_id\n",
                "INNER JOIN gs_addresses AS a\n",
                "    ON o.ship_address_id = a.address_id\n",
                "ORDER BY o.order_date, p.product_name;\n"
            ]
        }
    ],
    "metadata": {
        "kernelspec": {
            "display_name": "Python 3",
            "language": "python",
            "name": "python3"
        },
        "language_info": {
            "codemirror_mode": {
                "name": "ipython",
                "version": 3
            },
            "file_extension": ".py",
            "mimetype": "text/x-python",
            "name": "python",
            "nbconvert_exporter": "python",
            "pygments_lexer": "ipython3",
            "version": "3.12.4"
        }
    },
    "nbformat": 4,
    "nbformat_minor": 2
}
